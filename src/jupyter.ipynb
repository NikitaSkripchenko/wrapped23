{
 "cells": [
  {
   "cell_type": "code",
   "execution_count": null,
   "metadata": {
    "execution": {
     "iopub.execute_input": "2023-12-21T19:02:04.857462Z",
     "iopub.status.busy": "2023-12-21T19:02:04.856848Z",
     "iopub.status.idle": "2023-12-21T19:02:06.173308Z",
     "shell.execute_reply": "2023-12-21T19:02:06.172903Z"
    },
    "id": "lFEJYNF63aXO"
   },
   "outputs": [],
   "source": [
    "import pandas as pd\n",
    "import matplotlib.pyplot as plt\n",
    "import plotly.express as px\n",
    "import plotly.graph_objects as go\n",
    "import calendar\n",
    "from jinja2 import Environment, FileSystemLoader\n",
    "from dash import Dash, html, dash_table"
   ]
  },
  {
   "cell_type": "code",
   "execution_count": null,
   "metadata": {
    "colab": {
     "base_uri": "https://localhost:8080/",
     "height": 1000
    },
    "execution": {
     "iopub.execute_input": "2023-12-21T19:02:06.214074Z",
     "iopub.status.busy": "2023-12-21T19:02:06.213520Z",
     "iopub.status.idle": "2023-12-21T19:02:07.051452Z",
     "shell.execute_reply": "2023-12-21T19:02:07.050600Z"
    },
    "id": "141v9_Je4uGO",
    "outputId": "6463a6e4-1d28-4058-8ce2-beaa7dc546be"
   },
   "outputs": [],
   "source": [
    "csv_path = '../data/data/final.csv'\n",
    "weekdays = ['Monday', 'Tuesday', 'Wednesday', 'Thursday', 'Friday', 'Saturday', 'Sunday']\n",
    "\n",
    "df = pd.read_csv(csv_path)\n",
    "\n",
    "df['Date'] = pd.to_datetime(df['Date'], format='%B %d, %Y')\n",
    "df['DayOfWeek'] = df['Date'].dt.day_name()\n",
    "\n",
    "columns_to_aggregate = ['sports', 'literature reading', 'sobber']\n",
    "weekly_distribution_positive = {col: df.groupby('DayOfWeek')[col].apply(lambda x: (x == '+').sum()) for col in columns_to_aggregate}\n",
    "\n",
    "for activity in weekly_distribution_positive:\n",
    "    weekly_distribution_positive[activity] = weekly_distribution_positive[activity].reindex(weekdays)\n",
    "\n",
    "weekly_distribution_negative_sober = df.groupby('DayOfWeek')['sobber'].apply(lambda x: (x == '-').sum())\n",
    "weekly_distribution_negative_sober = weekly_distribution_negative_sober.reindex(weekdays)\n",
    "\n",
    "fig, axs = plt.subplots(len(columns_to_aggregate) + 1, 1, figsize=(10, 5 * (len(columns_to_aggregate) + 1)))\n",
    "\n",
    "for activity, distribution in weekly_distribution_positive.items():\n",
    "    fig = px.bar(distribution, x=distribution.index, y=distribution.values, title=f'Weekly Distribution of {activity} (+)')\n",
    "    fig.update_traces(hovertemplate='Day: %{x}<br>Count: %{y}')\n",
    "    fig.show()\n",
    "    fig.write_html(f\"./resources/weekdays_{activity}.html\")\n",
    "\n",
    "fig = px.bar(weekly_distribution_negative_sober, x=weekly_distribution_negative_sober.index, y=weekly_distribution_negative_sober.values, title='Weekly Distribution of Drunk (-)')\n",
    "fig.update_traces(hovertemplate='Day: %{x}<br>Count: %{y}')\n",
    "fig.show()\n",
    "fig.write_html(\"./resources/weekdays_drunk.html\")"
   ]
  },
  {
   "cell_type": "code",
   "execution_count": null,
   "metadata": {
    "colab": {
     "base_uri": "https://localhost:8080/"
    },
    "execution": {
     "iopub.execute_input": "2023-12-21T19:02:07.054086Z",
     "iopub.status.busy": "2023-12-21T19:02:07.053921Z",
     "iopub.status.idle": "2023-12-21T19:02:07.058307Z",
     "shell.execute_reply": "2023-12-21T19:02:07.057661Z"
    },
    "id": "j3E8fY3584s5",
    "outputId": "0119512e-6c8f-48d3-d2fa-73e985bcaf04"
   },
   "outputs": [],
   "source": [
    "total_days_sport = df[df['sports'] == '+'].shape[0]\n",
    "total_days_literature = df[df['literature reading'] == '+'].shape[0]\n",
    "total_days_sober = df[df['sobber'] == '+'].shape[0]\n",
    "total_days_unsober = df[df['sobber'] == '-'].shape[0]\n",
    "\n",
    "\n",
    "\n",
    "# print(total_days_sport)\n",
    "# print(total_days_literature)\n",
    "# print(total_days_sober)\n",
    "# print(total_days_unsober)\n"
   ]
  },
  {
   "cell_type": "code",
   "execution_count": null,
   "metadata": {
    "colab": {
     "base_uri": "https://localhost:8080/"
    },
    "execution": {
     "iopub.execute_input": "2023-12-21T19:02:07.060435Z",
     "iopub.status.busy": "2023-12-21T19:02:07.060317Z",
     "iopub.status.idle": "2023-12-21T19:02:07.075199Z",
     "shell.execute_reply": "2023-12-21T19:02:07.074776Z"
    },
    "id": "3fuv9-xY9Frm",
    "outputId": "1ceb40cd-275e-4633-8cc1-8c6f0ec02681"
   },
   "outputs": [],
   "source": [
    "monthly_data = df.groupby(df['Date'].dt.to_period('M')).agg({\n",
    "    'sports': lambda x: (x == '+').sum(),\n",
    "    'literature reading': lambda x: (x == '+').sum(),\n",
    "    'sobber': 'count'\n",
    "})\n",
    "\n",
    "df = df.drop_duplicates(subset=['Date'])\n",
    "\n",
    "monthly_data['Sober'] = df[df['sobber'] == '+'].groupby(df['Date'].dt.to_period('M')).count()['sobber']\n",
    "monthly_data['Drunk'] = df[df['sobber'] == '-'].groupby(df['Date'].dt.to_period('M')).count()['sobber']\n",
    "\n",
    "monthly_data.fillna(0, inplace=True)\n",
    "\n",
    "most_sober_month = monthly_data['Sober'].idxmax(), monthly_data['Sober'].max()\n",
    "most_sport_month = monthly_data['sports'].idxmax(), monthly_data['sports'].max()\n",
    "most_literature_month = monthly_data['literature reading'].idxmax(), monthly_data['literature reading'].max()\n",
    "\n",
    "least_sober_month = monthly_data['Drunk'].idxmin(), monthly_data['Drunk'].min()\n",
    "least_sport_month = monthly_data['sports'].idxmin(), monthly_data['sports'].min()\n",
    "least_literature_month = monthly_data['literature reading'].idxmin(), monthly_data['literature reading'].min()\n",
    "\n",
    "monthly_data['Total_Activities'] = monthly_data['sports'] + monthly_data['literature reading'] + monthly_data['Drunk'] #- monthly_data['Sober']\n",
    "top_activity_month = monthly_data['Total_Activities'].idxmax(), monthly_data['Total_Activities'].max()\n",
    "\n",
    "# print(\"Most Sober Month: \", most_sober_month)\n",
    "# print(\"Most Sporty Month: \", most_sport_month)\n",
    "# print(\"Most Reading Month: \", most_literature_month)\n",
    "\n",
    "# print(\"Least Sober Month: \", least_sober_month)\n",
    "# print(\"Least Sporty Month: \", least_sport_month)\n",
    "# print(\"Least Reading Month: \", least_literature_month)\n",
    "\n",
    "# print(\"Top activity month: \", top_activity_month)\n",
    "\n",
    "formatted_dict = {}\n",
    "data_tuples = {\n",
    "    \"most_sober_month\": most_sober_month,\n",
    "    \"most_sport_month\": most_sport_month,\n",
    "    \"most_literature_month\": most_literature_month,\n",
    "    \"least_literature_month\": least_literature_month,\n",
    "    \"least_sport_month\": least_sport_month,\n",
    "    \"least_sober_month\": least_sober_month,\n",
    "    \"top_activity_month\": top_activity_month\n",
    "}\n",
    "\n",
    "for key, (period, count) in data_tuples.items():\n",
    "    month_name = calendar.month_name[period.month]\n",
    "    formatted_dict[key] = f\"{month_name}, {count} times\"\n"
   ]
  },
  {
   "cell_type": "code",
   "execution_count": null,
   "metadata": {
    "execution": {
     "iopub.execute_input": "2023-12-21T19:02:07.077905Z",
     "iopub.status.busy": "2023-12-21T19:02:07.077725Z",
     "iopub.status.idle": "2023-12-21T19:02:07.086564Z",
     "shell.execute_reply": "2023-12-21T19:02:07.086202Z"
    }
   },
   "outputs": [],
   "source": [
    "monthly_data_copy = monthly_data.copy()\n",
    "monthly_data_copy.index = monthly_data_copy.index.strftime('%B')\n",
    "monthly_data_copy = monthly_data_copy.drop([\"sobber\"], axis=1)\n",
    "monthly_data_copy = monthly_data_copy.rename(columns={'sports': 'Sports', 'literature reading': \"Reading\", 'Total_Activities': 'Total Score'})\n",
    "monthly_data_copy"
   ]
  },
  {
   "cell_type": "code",
   "execution_count": null,
   "metadata": {
    "execution": {
     "iopub.execute_input": "2023-12-21T19:02:07.090432Z",
     "iopub.status.busy": "2023-12-21T19:02:07.090239Z",
     "iopub.status.idle": "2023-12-21T19:02:07.092281Z",
     "shell.execute_reply": "2023-12-21T19:02:07.091892Z"
    }
   },
   "outputs": [],
   "source": [
    "\n",
    "# fig = go.Figure(data=[go.Table(\n",
    "#     header=dict(values=[\"Date\"] + list(monthly_data_copy.columns),\n",
    "#                 fill_color='paleturquoise',\n",
    "#                 align='left'),\n",
    "#     cells=dict(values=[monthly_data_copy.index] + [monthly_data_copy[column].tolist() for column in monthly_data_copy.columns],\n",
    "#                fill_color='lavender',\n",
    "#                align='left'))\n",
    "# ])\n",
    "# fig.show()"
   ]
  },
  {
   "cell_type": "code",
   "execution_count": null,
   "metadata": {
    "execution": {
     "iopub.execute_input": "2023-12-21T19:02:07.094358Z",
     "iopub.status.busy": "2023-12-21T19:02:07.094196Z",
     "iopub.status.idle": "2023-12-21T19:02:07.100374Z",
     "shell.execute_reply": "2023-12-21T19:02:07.099706Z"
    }
   },
   "outputs": [],
   "source": [
    "monthly_data_copy = monthly_data_copy.reset_index()\n",
    "newdf = pd.DataFrame(monthly_data_copy)\n",
    "json_data = newdf.to_json(orient='records')\n",
    "newdf"
   ]
  },
  {
   "cell_type": "code",
   "execution_count": null,
   "metadata": {
    "colab": {
     "base_uri": "https://localhost:8080/",
     "height": 542
    },
    "execution": {
     "iopub.execute_input": "2023-12-21T19:02:07.107418Z",
     "iopub.status.busy": "2023-12-21T19:02:07.107174Z",
     "iopub.status.idle": "2023-12-21T19:02:07.132532Z",
     "shell.execute_reply": "2023-12-21T19:02:07.131579Z"
    },
    "id": "-z_NLOMJBLCh",
    "outputId": "8b173b4a-e5ab-44ab-828a-b5bf89e8860f"
   },
   "outputs": [],
   "source": [
    "\n",
    "fig = go.Figure()\n",
    "fig.add_trace(go.Bar(x=monthly_data.index.astype(str), y=monthly_data['sports'], name='Sports'))\n",
    "fig.add_trace(go.Bar(x=monthly_data.index.astype(str), y=monthly_data['literature reading'], name='Literature'))\n",
    "fig.add_trace(go.Bar(x=monthly_data.index.astype(str), y=monthly_data['Sober'], name='Sober'))\n",
    "fig.add_trace(go.Bar(x=monthly_data.index.astype(str), y=monthly_data['Drunk'], name='Drunk'))\n",
    "\n",
    "fig.update_layout(barmode='stack', title='Monthly Activity Distribution',\n",
    "                  xaxis_title='Month', yaxis_title='Count')\n",
    "fig.show()\n",
    "fig.write_html(\"./resources/by_months.html\")"
   ]
  },
  {
   "cell_type": "code",
   "execution_count": null,
   "metadata": {
    "colab": {
     "base_uri": "https://localhost:8080/",
     "height": 542
    },
    "execution": {
     "iopub.execute_input": "2023-12-21T19:02:07.136577Z",
     "iopub.status.busy": "2023-12-21T19:02:07.136256Z",
     "iopub.status.idle": "2023-12-21T19:02:07.184890Z",
     "shell.execute_reply": "2023-12-21T19:02:07.184530Z"
    },
    "id": "9MsI2YMwFL9K",
    "outputId": "7a0742f2-f3d1-4402-d769-8cde2997b953"
   },
   "outputs": [],
   "source": [
    "df['Date'] = pd.to_datetime(df['Date'], format='%B %d, %Y')\n",
    "df['Day'] = df['Date'].dt.day\n",
    "df['Month'] = df['Date'].dt.month\n",
    "\n",
    "heatmap_data = df.pivot_table(index='Day', columns='Month', values='Sentiment', aggfunc='mean')\n",
    "\n",
    "month_labels = [calendar.month_abbr[i] for i in range(1, 13)]\n",
    "\n",
    "fig = px.imshow(heatmap_data, labels=dict(x=\"Month\", y=\"Day\", color=\"Average Sentiment\"),\n",
    "                x=month_labels, y=heatmap_data.index, aspect=\"auto\")\n",
    "\n",
    "fig.update_layout(title='Yearly Sentiment Heatmap', xaxis_nticks=12)\n",
    "fig.show()\n",
    "fig.write_html(\"./resources/heatmap.html\")"
   ]
  },
  {
   "cell_type": "code",
   "execution_count": null,
   "metadata": {
    "execution": {
     "iopub.execute_input": "2023-12-21T19:02:07.186903Z",
     "iopub.status.busy": "2023-12-21T19:02:07.186754Z",
     "iopub.status.idle": "2023-12-21T19:02:07.228417Z",
     "shell.execute_reply": "2023-12-21T19:02:07.228063Z"
    }
   },
   "outputs": [],
   "source": [
    "monthly_mean_sentiment = df.groupby(df[\"Date\"].dt.month)['Sentiment'].mean()\n",
    "monthly_mean_sentiment_df = pd.DataFrame({'Month': monthly_mean_sentiment.index, 'Happy Index': monthly_mean_sentiment.values})\n",
    "monthly_mean_sentiment_df['Month'] = monthly_mean_sentiment_df['Month'].apply(lambda x: calendar.month_abbr[x])\n",
    "fig = px.line(monthly_mean_sentiment_df, x='Month', y='Happy Index', title='Monthly Happy Index')\n",
    "fig.show()\n",
    "fig.write_html(\"./resources/happy_index.html\")\n"
   ]
  },
  {
   "cell_type": "code",
   "execution_count": null,
   "metadata": {
    "execution": {
     "iopub.execute_input": "2023-12-21T19:02:07.230474Z",
     "iopub.status.busy": "2023-12-21T19:02:07.230301Z",
     "iopub.status.idle": "2023-12-21T19:02:07.233619Z",
     "shell.execute_reply": "2023-12-21T19:02:07.233268Z"
    }
   },
   "outputs": [],
   "source": [
    "most_happy_day = df.loc[df['Sentiment'].idxmax()]\n",
    "most_depressive_day = df.loc[df['Sentiment'].idxmin()]\n",
    "most_happy_day_date = most_happy_day['Date']\n",
    "most_happy_day_sentiment_value = most_happy_day['Sentiment']\n",
    "most_happy_day_sentiment = most_happy_day['MD Content']\n",
    "\n",
    "most_depressive_day_date = most_depressive_day['Date']\n",
    "most_depressive_day_sentiment_value = most_depressive_day['Sentiment']\n",
    "most_depressive_day_sentiment = most_depressive_day['MD Content']"
   ]
  },
  {
   "cell_type": "code",
   "execution_count": null,
   "metadata": {
    "execution": {
     "iopub.execute_input": "2023-12-21T19:02:07.235640Z",
     "iopub.status.busy": "2023-12-21T19:02:07.235482Z",
     "iopub.status.idle": "2023-12-21T19:02:07.238147Z",
     "shell.execute_reply": "2023-12-21T19:02:07.237703Z"
    }
   },
   "outputs": [],
   "source": [
    "print(f\"Most Happy Day: {most_happy_day_date.strftime('%B %d, %Y')} with a sentiment score of {most_happy_day_sentiment_value}\")\n",
    "print(most_happy_day_sentiment)\n",
    "print(\"__________\")\n",
    "print(f\"Most Depressive Day: {most_depressive_day_date.strftime('%B %d, %Y')} with a sentiment score of {most_depressive_day_sentiment_value}\")\n",
    "print(most_depressive_day_sentiment)"
   ]
  },
  {
   "cell_type": "markdown",
   "metadata": {},
   "source": [
    "### Jinja templating"
   ]
  },
  {
   "cell_type": "code",
   "execution_count": null,
   "metadata": {
    "execution": {
     "iopub.execute_input": "2023-12-21T19:02:07.239921Z",
     "iopub.status.busy": "2023-12-21T19:02:07.239774Z",
     "iopub.status.idle": "2023-12-21T19:02:07.246143Z",
     "shell.execute_reply": "2023-12-21T19:02:07.245772Z"
    },
    "id": "DQc9gP4PFTpV"
   },
   "outputs": [],
   "source": [
    "file_loader = FileSystemLoader('./')\n",
    "env = Environment(loader=file_loader)\n",
    "template = env.get_template('index_template.html')\n",
    "output = template.render(total_days_sport=total_days_sport,\n",
    "                         total_days_reading=total_days_literature,\n",
    "                         total_days_sober=total_days_sober,\n",
    "                         total_days_drunk=total_days_unsober,\n",
    "                         json_data = json_data,\n",
    "                         top_sober_month = formatted_dict[\"most_sober_month\"],\n",
    "                         top_sport_month = formatted_dict[\"most_sport_month\"],\n",
    "                         top_reading_month = formatted_dict[\"most_literature_month\"],\n",
    "                         top_drunk_month = formatted_dict[\"least_sober_month\"],\n",
    "                         top_lazy_month = formatted_dict[\"least_sport_month\"],\n",
    "                         top_stupid_month = formatted_dict[\"least_literature_month\"],\n",
    "                         top_happy_day = most_happy_day_date.strftime('%B %d, %Y'),\n",
    "                         top_depressive_day = most_depressive_day_date.strftime('%B %d, %Y'))\n",
    "with open('index.html', 'w') as file:\n",
    "    file.write(output)\n"
   ]
  },
  {
   "cell_type": "code",
   "execution_count": null,
   "metadata": {},
   "outputs": [],
   "source": []
  }
 ],
 "metadata": {
  "colab": {
   "provenance": []
  },
  "kernelspec": {
   "display_name": "Python 3",
   "name": "python3"
  },
  "language_info": {
   "codemirror_mode": {
    "name": "ipython",
    "version": 3
   },
   "file_extension": ".py",
   "mimetype": "text/x-python",
   "name": "python",
   "nbconvert_exporter": "python",
   "pygments_lexer": "ipython3",
   "version": "3.9.6"
  }
 },
 "nbformat": 4,
 "nbformat_minor": 0
}
